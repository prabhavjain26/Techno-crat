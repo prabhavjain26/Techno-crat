{
 "cells": [
  {
   "cell_type": "code",
   "execution_count": 2,
   "metadata": {},
   "outputs": [],
   "source": [
    "import numpy as np\n",
    "import matplotlib.pyplot as plt\n",
    "\n",
    "from keras.models import Sequential\n",
    "from keras.layers.core import Dense, Activation, Dropout\n",
    "from keras.datasets import mnist\n",
    "from keras.utils import np_utils\n",
    "\n",
    "# fix a random seed for reproducibility\n",
    "np.random.seed(9)"
   ]
  },
  {
   "cell_type": "code",
   "execution_count": 3,
   "metadata": {},
   "outputs": [],
   "source": [
    "nb_epoch = 10\n",
    "num_classes = 10\n",
    "batch_size = 128\n",
    "train_size = 60000\n",
    "test_size = 10000\n",
    "v_length = 784"
   ]
  },
  {
   "cell_type": "code",
   "execution_count": 4,
   "metadata": {},
   "outputs": [
    {
     "name": "stdout",
     "output_type": "stream",
     "text": [
      "[INFO] train data shape: (60000, 28, 28)\n",
      "[INFO] test data shape: (10000, 28, 28)\n",
      "[INFO] train samples: 60000\n",
      "[INFO] test samples: 10000\n"
     ]
    }
   ],
   "source": [
    "(trainData, trainLabels), (testData, testLabels) = mnist.load_data()\n",
    "print(\"[INFO] train data shape: {}\".format(trainData.shape))\n",
    "print(\"[INFO] test data shape: {}\".format(testData.shape))\n",
    "print(\"[INFO] train samples: {}\".format(trainData.shape[0]))\n",
    "print(\"[INFO] test samples: {}\".format(testData.shape[0]))\n"
   ]
  },
  {
   "cell_type": "code",
   "execution_count": 5,
   "metadata": {},
   "outputs": [
    {
     "name": "stdout",
     "output_type": "stream",
     "text": [
      "[INFO] train data shape: (60000, 784)\n",
      "[INFO] test data shape: (10000, 784)\n",
      "[INFO] train samples: 60000\n",
      "[INFO] test samples: 10000\n"
     ]
    }
   ],
   "source": [
    "# reshape the dataset\n",
    "trainData = trainData.reshape(train_size, v_length)\n",
    "testData = testData.reshape(test_size, v_length)\n",
    "trainData = trainData.astype(\"float32\")\n",
    "testData = testData.astype(\"float32\")\n",
    "trainData /= 255\n",
    "testData /= 255\n",
    "\n",
    "print(\"[INFO] train data shape: {}\".format(trainData.shape))\n",
    "print(\"[INFO] test data shape: {}\".format(testData.shape))\n",
    "print(\"[INFO] train samples: {}\".format(trainData.shape[0]))\n",
    "print(\"[INFO] test samples: {}\".format(testData.shape[0]))"
   ]
  },
  {
   "cell_type": "code",
   "execution_count": 6,
   "metadata": {},
   "outputs": [],
   "source": [
    "# convert class vectors to binary class matrices --> one-hot encoding\n",
    "mTrainLabels = np_utils.to_categorical(trainLabels, num_classes)\n",
    "mTestLabels = np_utils.to_categorical(testLabels, num_classes)\n"
   ]
  },
  {
   "cell_type": "code",
   "execution_count": 7,
   "metadata": {},
   "outputs": [
    {
     "name": "stdout",
     "output_type": "stream",
     "text": [
      "WARNING:tensorflow:From C:\\Users\\prabh\\Anaconda3\\lib\\site-packages\\tensorflow\\python\\framework\\op_def_library.py:263: colocate_with (from tensorflow.python.framework.ops) is deprecated and will be removed in a future version.\n",
      "Instructions for updating:\n",
      "Colocations handled automatically by placer.\n",
      "WARNING:tensorflow:From C:\\Users\\prabh\\Anaconda3\\lib\\site-packages\\keras\\backend\\tensorflow_backend.py:3445: calling dropout (from tensorflow.python.ops.nn_ops) with keep_prob is deprecated and will be removed in a future version.\n",
      "Instructions for updating:\n",
      "Please use `rate` instead of `keep_prob`. Rate should be set to `rate = 1 - keep_prob`.\n",
      "_________________________________________________________________\n",
      "Layer (type)                 Output Shape              Param #   \n",
      "=================================================================\n",
      "dense_1 (Dense)              (None, 512)               401920    \n",
      "_________________________________________________________________\n",
      "activation_1 (Activation)    (None, 512)               0         \n",
      "_________________________________________________________________\n",
      "dropout_1 (Dropout)          (None, 512)               0         \n",
      "_________________________________________________________________\n",
      "dense_2 (Dense)              (None, 256)               131328    \n",
      "_________________________________________________________________\n",
      "activation_2 (Activation)    (None, 256)               0         \n",
      "_________________________________________________________________\n",
      "dropout_2 (Dropout)          (None, 256)               0         \n",
      "_________________________________________________________________\n",
      "dense_3 (Dense)              (None, 10)                2570      \n",
      "_________________________________________________________________\n",
      "activation_3 (Activation)    (None, 10)                0         \n",
      "=================================================================\n",
      "Total params: 535,818\n",
      "Trainable params: 535,818\n",
      "Non-trainable params: 0\n",
      "_________________________________________________________________\n"
     ]
    }
   ],
   "source": [
    "# create the model\n",
    "model = Sequential()\n",
    "model.add(Dense(512, input_shape=(784,)))\n",
    "model.add(Activation(\"relu\"))\n",
    "model.add(Dropout(0.2))\n",
    "model.add(Dense(256))\n",
    "model.add(Activation(\"relu\"))\n",
    "model.add(Dropout(0.2))\n",
    "model.add(Dense(num_classes))\n",
    "model.add(Activation(\"softmax\"))\n",
    "\n",
    "# summarize the model\n",
    "model.summary()"
   ]
  },
  {
   "cell_type": "code",
   "execution_count": 8,
   "metadata": {},
   "outputs": [],
   "source": [
    "# compile the model\n",
    "model.compile(loss=\"categorical_crossentropy\", optimizer=\"adam\", metrics=[\"accuracy\"])\n"
   ]
  },
  {
   "cell_type": "code",
   "execution_count": 9,
   "metadata": {},
   "outputs": [
    {
     "name": "stdout",
     "output_type": "stream",
     "text": [
      "WARNING:tensorflow:From C:\\Users\\prabh\\Anaconda3\\lib\\site-packages\\tensorflow\\python\\ops\\math_ops.py:3066: to_int32 (from tensorflow.python.ops.math_ops) is deprecated and will be removed in a future version.\n",
      "Instructions for updating:\n",
      "Use tf.cast instead.\n"
     ]
    },
    {
     "name": "stderr",
     "output_type": "stream",
     "text": [
      "C:\\Users\\prabh\\Anaconda3\\lib\\site-packages\\ipykernel_launcher.py:2: UserWarning: The `nb_epoch` argument in `fit` has been renamed `epochs`.\n",
      "  \n"
     ]
    },
    {
     "name": "stdout",
     "output_type": "stream",
     "text": [
      "Train on 60000 samples, validate on 10000 samples\n",
      "Epoch 1/10\n",
      " - 8s - loss: 0.2647 - acc: 0.9212 - val_loss: 0.1092 - val_acc: 0.9661\n",
      "Epoch 2/10\n",
      " - 7s - loss: 0.1070 - acc: 0.9670 - val_loss: 0.0836 - val_acc: 0.9734\n",
      "Epoch 3/10\n",
      " - 7s - loss: 0.0761 - acc: 0.9768 - val_loss: 0.0696 - val_acc: 0.9778\n",
      "Epoch 4/10\n",
      " - 6s - loss: 0.0589 - acc: 0.9814 - val_loss: 0.0696 - val_acc: 0.9789\n",
      "Epoch 5/10\n",
      " - 6s - loss: 0.0481 - acc: 0.9850 - val_loss: 0.0663 - val_acc: 0.9805\n",
      "Epoch 6/10\n",
      " - 7s - loss: 0.0395 - acc: 0.9877 - val_loss: 0.0579 - val_acc: 0.9833\n",
      "Epoch 7/10\n",
      " - 7s - loss: 0.0357 - acc: 0.9881 - val_loss: 0.0599 - val_acc: 0.9821\n",
      "Epoch 8/10\n",
      " - 6s - loss: 0.0331 - acc: 0.9885 - val_loss: 0.0621 - val_acc: 0.9817\n",
      "Epoch 9/10\n",
      " - 7s - loss: 0.0280 - acc: 0.9907 - val_loss: 0.0690 - val_acc: 0.9814\n",
      "Epoch 10/10\n",
      " - 7s - loss: 0.0263 - acc: 0.9913 - val_loss: 0.0652 - val_acc: 0.9821\n"
     ]
    }
   ],
   "source": [
    "# fit the model\n",
    "history = model.fit(trainData, mTrainLabels, validation_data=(testData, mTestLabels), batch_size=batch_size, nb_epoch=nb_epoch, verbose=2)\n"
   ]
  },
  {
   "cell_type": "code",
   "execution_count": 10,
   "metadata": {},
   "outputs": [
    {
     "name": "stdout",
     "output_type": "stream",
     "text": [
      "dict_keys(['val_loss', 'val_acc', 'loss', 'acc'])\n"
     ]
    },
    {
     "data": {
      "image/png": "[encoded data removed]",
      "text/plain": [
       "<Figure size 432x288 with 1 Axes>"
      ]
     },
     "metadata": {
      "needs_background": "light"
     },
     "output_type": "display_data"
    },
    {
     "data": {
      "image/png": "[encoded data removed]",
      "text/plain": [
       "<Figure size 432x288 with 1 Axes>"
      ]
     },
     "metadata": {
      "needs_background": "light"
     },
     "output_type": "display_data"
    },
    {
     "name": "stdout",
     "output_type": "stream",
     "text": [
      "[INFO] test score - 0.06521168254973309\n",
      "[INFO] test accuracy - 0.9821\n"
     ]
    }
   ],
   "source": [
    "# print the history keys\n",
    "print(history.history.keys())\n",
    "\n",
    "# evaluate the model\n",
    "scores = model.evaluate(testData, mTestLabels, verbose=0)\n",
    "\n",
    "# history plot for accuracy\n",
    "plt.plot(history.history[\"acc\"])\n",
    "plt.plot(history.history[\"val_acc\"])\n",
    "plt.title(\"Model Accuracy\")\n",
    "plt.xlabel(\"Epoch\")\n",
    "plt.ylabel(\"Accuracy\")\n",
    "plt.legend([\"train\", \"test\"], loc=\"upper left\")\n",
    "plt.show()\n",
    "\n",
    "# history plot for accuracy\n",
    "plt.plot(history.history[\"loss\"])\n",
    "plt.plot(history.history[\"val_loss\"])\n",
    "plt.title(\"Model Loss\")\n",
    "plt.xlabel(\"Epoch\")\n",
    "plt.ylabel(\"Loss\")\n",
    "plt.legend([\"train\", \"test\"], loc=\"upper left\")\n",
    "plt.show()\n",
    "\n",
    "# print the results\n",
    "print(\"[INFO] test score - {}\".format(scores[0]))\n",
    "print(\"[INFO] test accuracy - {}\".format(scores[1]))\n"
   ]
  },
  {
   "cell_type": "code",
   "execution_count": 11,
   "metadata": {},
   "outputs": [
    {
     "name": "stdout",
     "output_type": "stream",
     "text": [
      "(1146, 508)\n",
      "[5]\n",
      "[INFO] I think the digit is - [5]\n"
     ]
    }
   ],
   "source": [
    "import cv2\n",
    "from keras.preprocessing import image\n",
    "test_images = cv2.imread(\"C:/Users/prabh/random.jpg\")\n",
    "\n",
    "#print(test_images)\n",
    "\n",
    "#test_images.astype(\"float32\")\n",
    "\n",
    "test_images=cv2.cvtColor(test_images, cv2.COLOR_BGR2GRAY)\n",
    "print(test_images.shape)\n",
    "\n",
    "\n",
    "test_images=cv2.resize(test_images,(28,28))\n",
    "test_pixel=image.img_to_array(test_images)\n",
    "test_pixel=np.expand_dims(test_pixel,axis=0)\n",
    "test_pixel/=255\n",
    "\n",
    "#print(test_images.shape)\n",
    "#org_image = test_images\n",
    "test_pixel = test_pixel.reshape(1,784)\n",
    "prediction = model.predict_classes(test_pixel, verbose=0)\n",
    "print(prediction)\n",
    "print(\"[INFO] I think the digit is - {}\".format(prediction))"
   ]
  }
 ],
 "metadata": {
  "kernelspec": {
   "display_name": "Python 3",
   "language": "python",
   "name": "python3"
  },
  "language_info": {
   "codemirror_mode": {
    "name": "ipython",
    "version": 3
   },
   "file_extension": ".py",
   "mimetype": "text/x-python",
   "name": "python",
   "nbconvert_exporter": "python",
   "pygments_lexer": "ipython3",
   "version": "3.7.3"
  }
 },
 "nbformat": 4,
 "nbformat_minor": 2
}
